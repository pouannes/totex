{
 "cells": [
  {
   "cell_type": "code",
   "execution_count": 1,
   "metadata": {},
   "outputs": [],
   "source": [
    "%matplotlib inline\n",
    "%reload_ext autoreload\n",
    "%autoreload 2"
   ]
  },
  {
   "cell_type": "code",
   "execution_count": 51,
   "metadata": {},
   "outputs": [],
   "source": [
    "from fastai import *\n",
    "\n",
    "\n",
    "from pathlib import Path\n",
    "import json\n",
    "import collections\n",
    "from PIL import ImageDraw, ImageFont\n",
    "from matplotlib import patches, patheffects\n",
    "\n",
    "import numpy as np"
   ]
  },
  {
   "cell_type": "code",
   "execution_count": 6,
   "metadata": {},
   "outputs": [
    {
     "data": {
      "text/plain": [
       "[PosixPath('../../../data/pascal/pascal_val2007.json'),\n",
       " PosixPath('../../../data/pascal/VOCdevkit'),\n",
       " PosixPath('../../../data/pascal/pascal_train2012.json'),\n",
       " PosixPath('../../../data/pascal/pascal_test2007.json'),\n",
       " PosixPath('../../../data/pascal/VOCtrainval_06-Nov-2007.tar'),\n",
       " PosixPath('../../../data/pascal/PASCAL_VOC.zip'),\n",
       " PosixPath('../../../data/pascal/pascal_train2007.json'),\n",
       " PosixPath('../../../data/pascal/pascal_val2012.json')]"
      ]
     },
     "execution_count": 6,
     "metadata": {},
     "output_type": "execute_result"
    }
   ],
   "source": [
    "PATH = Path('../../../data/pascal/')\n",
    "list(PATH.iterdir())"
   ]
  },
  {
   "cell_type": "code",
   "execution_count": 10,
   "metadata": {},
   "outputs": [
    {
     "data": {
      "text/plain": [
       "dict_keys(['images', 'type', 'annotations', 'categories'])"
      ]
     },
     "execution_count": 10,
     "metadata": {},
     "output_type": "execute_result"
    }
   ],
   "source": [
    "trn_j = json.load((PATH/'pascal_train2007.json').open())\n",
    "trn_j.keys()"
   ]
  },
  {
   "cell_type": "code",
   "execution_count": 8,
   "metadata": {},
   "outputs": [
    {
     "data": {
      "text/plain": [
       "[{'file_name': '000012.jpg', 'height': 333, 'width': 500, 'id': 12},\n",
       " {'file_name': '000017.jpg', 'height': 364, 'width': 480, 'id': 17},\n",
       " {'file_name': '000023.jpg', 'height': 500, 'width': 334, 'id': 23},\n",
       " {'file_name': '000026.jpg', 'height': 333, 'width': 500, 'id': 26},\n",
       " {'file_name': '000032.jpg', 'height': 281, 'width': 500, 'id': 32}]"
      ]
     },
     "execution_count": 8,
     "metadata": {},
     "output_type": "execute_result"
    }
   ],
   "source": [
    "IMAGES,ANNOTATIONS,CATEGORIES = ['images', 'annotations', 'categories']\n",
    "trn_j[IMAGES][:5]"
   ]
  },
  {
   "cell_type": "code",
   "execution_count": 11,
   "metadata": {},
   "outputs": [
    {
     "data": {
      "text/plain": [
       "[{'segmentation': [[155, 96, 155, 270, 351, 270, 351, 96]],\n",
       "  'area': 34104,\n",
       "  'iscrowd': 0,\n",
       "  'image_id': 12,\n",
       "  'bbox': [155, 96, 196, 174],\n",
       "  'category_id': 7,\n",
       "  'id': 1,\n",
       "  'ignore': 0},\n",
       " {'segmentation': [[184, 61, 184, 199, 279, 199, 279, 61]],\n",
       "  'area': 13110,\n",
       "  'iscrowd': 0,\n",
       "  'image_id': 17,\n",
       "  'bbox': [184, 61, 95, 138],\n",
       "  'category_id': 15,\n",
       "  'id': 2,\n",
       "  'ignore': 0}]"
      ]
     },
     "execution_count": 11,
     "metadata": {},
     "output_type": "execute_result"
    }
   ],
   "source": [
    "trn_j[ANNOTATIONS][:2]"
   ]
  },
  {
   "cell_type": "code",
   "execution_count": 12,
   "metadata": {},
   "outputs": [
    {
     "data": {
      "text/plain": [
       "[{'supercategory': 'none', 'id': 1, 'name': 'aeroplane'},\n",
       " {'supercategory': 'none', 'id': 2, 'name': 'bicycle'},\n",
       " {'supercategory': 'none', 'id': 3, 'name': 'bird'},\n",
       " {'supercategory': 'none', 'id': 4, 'name': 'boat'}]"
      ]
     },
     "execution_count": 12,
     "metadata": {},
     "output_type": "execute_result"
    }
   ],
   "source": [
    "trn_j[CATEGORIES][:4]"
   ]
  },
  {
   "cell_type": "code",
   "execution_count": 13,
   "metadata": {},
   "outputs": [],
   "source": [
    "FILE_NAME,ID,IMG_ID,CAT_ID,BBOX = 'file_name','id','image_id','category_id','bbox'\n",
    "\n",
    "cats = {o[ID]:o['name'] for o in trn_j[CATEGORIES]}\n",
    "trn_fns = {o[ID]:o[FILE_NAME] for o in trn_j[IMAGES]}\n",
    "trn_ids = [o[ID] for o in trn_j[IMAGES]]"
   ]
  },
  {
   "cell_type": "code",
   "execution_count": 14,
   "metadata": {},
   "outputs": [
    {
     "data": {
      "text/plain": [
       "{1: 'aeroplane',\n",
       " 2: 'bicycle',\n",
       " 3: 'bird',\n",
       " 4: 'boat',\n",
       " 5: 'bottle',\n",
       " 6: 'bus',\n",
       " 7: 'car',\n",
       " 8: 'cat',\n",
       " 9: 'chair',\n",
       " 10: 'cow',\n",
       " 11: 'diningtable',\n",
       " 12: 'dog',\n",
       " 13: 'horse',\n",
       " 14: 'motorbike',\n",
       " 15: 'person',\n",
       " 16: 'pottedplant',\n",
       " 17: 'sheep',\n",
       " 18: 'sofa',\n",
       " 19: 'train',\n",
       " 20: 'tvmonitor'}"
      ]
     },
     "execution_count": 14,
     "metadata": {},
     "output_type": "execute_result"
    }
   ],
   "source": [
    "cats"
   ]
  },
  {
   "cell_type": "code",
   "execution_count": 17,
   "metadata": {},
   "outputs": [
    {
     "data": {
      "text/plain": [
       "[PosixPath('../../../data/pascal/VOCdevkit/VOC2007/ImageSets'),\n",
       " PosixPath('../../../data/pascal/VOCdevkit/VOC2007/SegmentationClass'),\n",
       " PosixPath('../../../data/pascal/VOCdevkit/VOC2007/SegmentationObject'),\n",
       " PosixPath('../../../data/pascal/VOCdevkit/VOC2007/Annotations'),\n",
       " PosixPath('../../../data/pascal/VOCdevkit/VOC2007/JPEGImages')]"
      ]
     },
     "execution_count": 17,
     "metadata": {},
     "output_type": "execute_result"
    }
   ],
   "source": [
    "list((PATH/'VOCdevkit'/'VOC2007').iterdir())"
   ]
  },
  {
   "cell_type": "code",
   "execution_count": 18,
   "metadata": {},
   "outputs": [],
   "source": [
    "JPEGS = 'VOCdevkit/VOC2007/JPEGImages'"
   ]
  },
  {
   "cell_type": "code",
   "execution_count": 19,
   "metadata": {},
   "outputs": [
    {
     "data": {
      "text/plain": [
       "[PosixPath('../../../data/pascal/VOCdevkit/VOC2007/JPEGImages/003301.jpg'),\n",
       " PosixPath('../../../data/pascal/VOCdevkit/VOC2007/JPEGImages/006279.jpg'),\n",
       " PosixPath('../../../data/pascal/VOCdevkit/VOC2007/JPEGImages/008254.jpg'),\n",
       " PosixPath('../../../data/pascal/VOCdevkit/VOC2007/JPEGImages/007167.jpg'),\n",
       " PosixPath('../../../data/pascal/VOCdevkit/VOC2007/JPEGImages/000608.jpg')]"
      ]
     },
     "execution_count": 19,
     "metadata": {},
     "output_type": "execute_result"
    }
   ],
   "source": [
    "IMG_PATH = PATH/JPEGS\n",
    "list(IMG_PATH.iterdir())[:5]"
   ]
  },
  {
   "cell_type": "code",
   "execution_count": 20,
   "metadata": {},
   "outputs": [
    {
     "data": {
      "text/plain": [
       "('000012.jpg', 12)"
      ]
     },
     "execution_count": 20,
     "metadata": {},
     "output_type": "execute_result"
    }
   ],
   "source": [
    "im0_d = trn_j[IMAGES][0]\n",
    "im0_d[FILE_NAME],im0_d[ID]"
   ]
  },
  {
   "cell_type": "code",
   "execution_count": 34,
   "metadata": {},
   "outputs": [
    {
     "data": {
      "text/plain": [
       "2501"
      ]
     },
     "execution_count": 34,
     "metadata": {},
     "output_type": "execute_result"
    }
   ],
   "source": [
    "def hw_bb(bb): return np.array([bb[1], bb[0], bb[3]+bb[1]-1, bb[2]+bb[0]-1])\n",
    "\n",
    "trn_anno = collections.defaultdict(lambda:[])\n",
    "for o in trn_j[ANNOTATIONS]:\n",
    "    if not o['ignore']:\n",
    "        bb = o[BBOX]\n",
    "        bb = hw_bb(bb)\n",
    "        trn_anno[o[IMG_ID]].append((bb,o[CAT_ID]))\n",
    "        \n",
    "len(trn_anno)\n",
    "\n",
    "\n"
   ]
  },
  {
   "cell_type": "code",
   "execution_count": 35,
   "metadata": {},
   "outputs": [
    {
     "data": {
      "text/plain": [
       "[(array([ 96, 155, 269, 350]), 7)]"
      ]
     },
     "execution_count": 35,
     "metadata": {},
     "output_type": "execute_result"
    }
   ],
   "source": [
    "im_a = trn_anno[im0_d[ID]]; im_a"
   ]
  },
  {
   "cell_type": "code",
   "execution_count": 36,
   "metadata": {},
   "outputs": [
    {
     "data": {
      "text/plain": [
       "(array([ 96, 155, 269, 350]), 7)"
      ]
     },
     "execution_count": 36,
     "metadata": {},
     "output_type": "execute_result"
    }
   ],
   "source": [
    "im0_a = im_a[0]; im0_a"
   ]
  },
  {
   "cell_type": "code",
   "execution_count": 37,
   "metadata": {},
   "outputs": [
    {
     "data": {
      "text/plain": [
       "'car'"
      ]
     },
     "execution_count": 37,
     "metadata": {},
     "output_type": "execute_result"
    }
   ],
   "source": [
    "cats[7]"
   ]
  },
  {
   "cell_type": "code",
   "execution_count": 38,
   "metadata": {},
   "outputs": [
    {
     "data": {
      "text/plain": [
       "[(array([ 61, 184, 198, 278]), 15), (array([ 77,  89, 335, 402]), 13)]"
      ]
     },
     "execution_count": 38,
     "metadata": {},
     "output_type": "execute_result"
    }
   ],
   "source": [
    "trn_anno[17]"
   ]
  },
  {
   "cell_type": "code",
   "execution_count": 39,
   "metadata": {},
   "outputs": [],
   "source": [
    "bb_voc = [155, 96, 196, 174]\n",
    "bb_fastai = hw_bb(bb_voc)"
   ]
  },
  {
   "cell_type": "code",
   "execution_count": 40,
   "metadata": {},
   "outputs": [],
   "source": [
    "def bb_hw(a): return np.array([a[1], a[0], a[3]-a[1]+1, a[2]-a[0]+1])"
   ]
  },
  {
   "cell_type": "code",
   "execution_count": 41,
   "metadata": {},
   "outputs": [
    {
     "data": {
      "text/plain": [
       "'expected: [155, 96, 196, 174], actual: [155  96 196 174]'"
      ]
     },
     "execution_count": 41,
     "metadata": {},
     "output_type": "execute_result"
    }
   ],
   "source": [
    "f'expected: {bb_voc}, actual: {bb_hw(bb_fastai)}'"
   ]
  },
  {
   "cell_type": "code",
   "execution_count": 52,
   "metadata": {},
   "outputs": [
    {
     "ename": "NameError",
     "evalue": "name 'open_image' is not defined",
     "output_type": "error",
     "traceback": [
      "\u001b[0;31m---------------------------------------------------------------------------\u001b[0m",
      "\u001b[0;31mNameError\u001b[0m                                 Traceback (most recent call last)",
      "\u001b[0;32m<ipython-input-52-37dc9dbde22f>\u001b[0m in \u001b[0;36m<module>\u001b[0;34m()\u001b[0m\n\u001b[0;32m----> 1\u001b[0;31m \u001b[0mim\u001b[0m \u001b[0;34m=\u001b[0m \u001b[0mopen_image\u001b[0m\u001b[0;34m(\u001b[0m\u001b[0mIMG_PATH\u001b[0m\u001b[0;34m/\u001b[0m\u001b[0mim0_d\u001b[0m\u001b[0;34m[\u001b[0m\u001b[0mFILE_NAME\u001b[0m\u001b[0;34m]\u001b[0m\u001b[0;34m)\u001b[0m\u001b[0;34m\u001b[0m\u001b[0;34m\u001b[0m\u001b[0m\n\u001b[0m",
      "\u001b[0;31mNameError\u001b[0m: name 'open_image' is not defined"
     ]
    }
   ],
   "source": [
    "im = open_image(IMG_PATH/im0_d[FILE_NAME])"
   ]
  },
  {
   "cell_type": "code",
   "execution_count": 49,
   "metadata": {},
   "outputs": [
    {
     "data": {
      "text/plain": [
       "PosixPath('../../../data/pascal/VOCdevkit/VOC2007/JPEGImages/000012.jpg')"
      ]
     },
     "execution_count": 49,
     "metadata": {},
     "output_type": "execute_result"
    }
   ],
   "source": [
    "im"
   ]
  },
  {
   "cell_type": "code",
   "execution_count": null,
   "metadata": {},
   "outputs": [],
   "source": []
  }
 ],
 "metadata": {
  "kernelspec": {
   "display_name": "Python 3",
   "language": "python",
   "name": "python3"
  },
  "language_info": {
   "codemirror_mode": {
    "name": "ipython",
    "version": 3
   },
   "file_extension": ".py",
   "mimetype": "text/x-python",
   "name": "python",
   "nbconvert_exporter": "python",
   "pygments_lexer": "ipython3",
   "version": "3.7.1"
  }
 },
 "nbformat": 4,
 "nbformat_minor": 2
}
